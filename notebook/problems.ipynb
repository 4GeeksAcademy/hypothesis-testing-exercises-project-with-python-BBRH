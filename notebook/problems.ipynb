{
 "cells": [
  {
   "cell_type": "markdown",
   "id": "d9d036c6",
   "metadata": {},
   "source": [
    "# Hypothesis testing problems"
   ]
  },
  {
   "cell_type": "markdown",
   "id": "d157c4db",
   "metadata": {},
   "source": [
    "## Exercise 1\n",
    "\n",
    "You are a nutritionist researching two different types of diets to see if there is a significant difference in weight loss after one month. You choose two random groups of people; one group follows the first diet, and the other follows the second. At the end of the month, you record the weight loss (in kg) for each person:\n",
    "\n",
    "| Diet 1 | Diet 2 |\n",
    "|:-------|:-------|\n",
    "| 2.0 | 3.0 |\n",
    "| 2.5 | 3.2 |\n",
    "| 3.0 | 3.1 |\n",
    "| 2.8 | 2.9 |\n",
    "| 2.3 | 2.8 |\n",
    "| 2.7 | 3.0 |\n",
    "| 2.5 | 3.2 |\n",
    "\n",
    "With these data, it seeks to answer the following question: Is there a significant difference in average weight loss between people who followed the first diet and those who followed the second diet?\n",
    "\n",
    "To draw conclusions, follow the points below:\n",
    "\n",
    "- State the hypothesis: null and alternative hypothesis.\n",
    "- Perform the test to test the hypothesis. You can use a Student's t-test.\n",
    "- Analyze the conclusions."
   ]
  },
  {
   "cell_type": "markdown",
   "id": "86f4ab7b",
   "metadata": {},
   "source": [
    "### Hipótesis nula e Hipótesis alternativa. \n",
    "En base a las observaciones de la tabla se establecen ambas hipótesis:\n",
    "Hipótesis nula:  \n",
    "    No existe una diferencia significativa en el promedio de perdida de peso entre el primer grupo y el segundo grupo.\n",
    "\n",
    "Hipótesis Alternativa:  \n",
    "    Existe una diferencia significativa del promedio de perdida de peso entre el primer grupo y segundo grupo."
   ]
  },
  {
   "cell_type": "markdown",
   "id": "ea159ff4",
   "metadata": {},
   "source": [
    "Se observa, que los datos son muestras independientes (no están emparejadas), entonces así se les tratará en el test de Student:"
   ]
  },
  {
   "cell_type": "code",
   "execution_count": 5,
   "id": "8e0f3cf0",
   "metadata": {},
   "outputs": [
    {
     "name": "stdout",
     "output_type": "stream",
     "text": [
      "Estadístico t: -3.538\n",
      "Valor p: 0.004\n"
     ]
    }
   ],
   "source": [
    "# TODO\n",
    "from scipy.stats import ttest_ind\n",
    "\n",
    "# Ejemplo: dos muestras independientes\n",
    "group_diet_1 = [2.0, 2.5, 3.0, 2.8, 2.3, 2.7, 2.5]\n",
    "group_diet_2 = [3.0, 3.2, 3.1, 2.9, 2.8, 3.0, 3.2]\n",
    "\n",
    "t_stat, p_value = ttest_ind(group_diet_1, group_diet_2)\n",
    "\n",
    "print(f'Estadístico t: {t_stat:.3f}')\n",
    "print(f'Valor p: {p_value:.3f}')"
   ]
  },
  {
   "cell_type": "markdown",
   "id": "29fd416b",
   "metadata": {},
   "source": [
    "### Conclusión (Student's test):  \n",
    "Para tener una significancia en los resultados, el valor de p debe de al menos 0.05 o 5%, sin embargo, no se da el caso, por lo que, es posible concluir que entre las dos dientas no hay una diferencia significativa a considerar."
   ]
  },
  {
   "cell_type": "markdown",
   "id": "f432e18e",
   "metadata": {},
   "source": [
    "## ANOVA\n",
    "\n",
    "**ANOVA** (*Analysis of Variance*) is a statistical technique used to compare the measures of two or more groups. The idea behind ANOVA is to decompose the total variability in the data into two components: between-group variability and within-group variability:\n",
    "\n",
    "- **Between-group variability**: This variability refers to the differences between the group means. If this variability is considerably larger than the within-group variability, it could be an indication that at least one of the group means is different.\n",
    "- **Within-group variability**: This variability refers to the dispersion of the data within each group. If all groups have similar variability, then any noticeable difference in group means could be considered significant.\n",
    "\n",
    "Hypotheses in ANOVA typically include:\n",
    "\n",
    "- **Null hypothesis** ($H₀$): The means of all groups are equal.\n",
    "- **Alternative hypothesis** ($H₁$): At least one of the group means is different.\n",
    "\n",
    "If the ANOVA test result is significant (e.g., a p-value less than a threshold such as 0.05), this suggests that at least one group mean is different."
   ]
  },
  {
   "cell_type": "markdown",
   "id": "fc5f3721",
   "metadata": {},
   "source": [
    "## Exercise 2\n",
    "\n",
    "A farmer decides to test three different types of fertilizers to determine if one is superior in terms of corn production. The farmer plants corn on 15 identical plots and uses all three fertilizers (5 plots for each type). At the end of the season, he measures the corn yield (in kg) of each plot, with the following result:\n",
    "\n",
    "| Fertilizer 1 | Fertilizer 2 | Fertilizer 3 |\n",
    "|:-------------|:-------------|:-------------|\n",
    "| 20 | 22 | 24 |\n",
    "| 21 | 21 | 23 |\n",
    "| 20 | 23 | 22 |\n",
    "| 19 | 22 | 23 |\n",
    "| 20 | 21 | 24 |\n",
    "\n",
    "With this data, he seeks to answer the following question: Is there a significant difference in average corn yield between the three types of fertilizers?\n",
    "\n",
    "To help you, follow the points below:\n",
    "\n",
    "- State the hypothesis: null and alternative hypothesis.\n",
    "- Perform the ANOVA test.\n",
    "- Analyze the conclusions.\n",
    "- If one fertilizer is better than another, how can we know it?"
   ]
  },
  {
   "cell_type": "markdown",
   "id": "d47b1ba6",
   "metadata": {},
   "source": [
    "### Aplicación Prueba Anova"
   ]
  },
  {
   "cell_type": "code",
   "execution_count": 6,
   "id": "eecad0ca",
   "metadata": {},
   "outputs": [
    {
     "name": "stdout",
     "output_type": "stream",
     "text": [
      "Estadístico F: 20.31579\n",
      "Valor p: 0.00014\n"
     ]
    }
   ],
   "source": [
    "# TODO\n",
    "from scipy.stats import f_oneway\n",
    "\n",
    "# Tres grupos independientes (por ejemplo, rendimiento de tres métodos de estudio)\n",
    "fertilizer_t1 = [20, 21, 20, 19, 20]\n",
    "fertilizer_t2 = [22, 21, 23, 22, 21]\n",
    "fertilizer_t3 = [24, 23, 22, 23, 24]\n",
    "\n",
    "f_stat, p_value = f_oneway(fertilizer_t1, fertilizer_t2, fertilizer_t3)\n",
    "\n",
    "print(f'Estadístico F: {f_stat:.5f}')\n",
    "print(f'Valor p: {p_value:.5f}')"
   ]
  },
  {
   "cell_type": "markdown",
   "id": "087e55b0",
   "metadata": {},
   "source": [
    "### Conclusión (Anova test):  \n",
    "Como se observa, el valor de p no es superior a 0.05, por lo que la diferencia entre fertilizantes no es significativa."
   ]
  },
  {
   "cell_type": "markdown",
   "id": "c98d5b8c",
   "metadata": {},
   "source": [
    "### ¿Cuál fertilizante es mejor entre ellos?  \n",
    "Para saber que fertilizante es mejor, se hará una comparación de cada uno con los demás, esto se hará haciendo una prueba de Tukey:"
   ]
  },
  {
   "cell_type": "code",
   "execution_count": 13,
   "id": "88c5b7fa",
   "metadata": {},
   "outputs": [
    {
     "name": "stdout",
     "output_type": "stream",
     "text": [
      "      Multiple Comparison of Means - Tukey HSD, FWER=0.05       \n",
      "================================================================\n",
      "    group1        group2    meandiff p-adj  lower  upper  reject\n",
      "----------------------------------------------------------------\n",
      "fertilizer_t1 fertilizer_t2      1.8 0.0099 0.4572 3.1428   True\n",
      "fertilizer_t1 fertilizer_t3      3.2 0.0001 1.8572 4.5428   True\n",
      "fertilizer_t2 fertilizer_t3      1.4 0.0409 0.0572 2.7428   True\n",
      "----------------------------------------------------------------\n"
     ]
    }
   ],
   "source": [
    "from statsmodels.stats.multicomp import pairwise_tukeyhsd\n",
    "import pandas as pd\n",
    "\n",
    "# Convertimos a formato largo\n",
    "datos = fertilizer_t1 + fertilizer_t2 + fertilizer_t3\n",
    "fertilizers = ['fertilizer_t1'] * len(fertilizer_t1) + ['fertilizer_t2'] * len(fertilizer_t2) + ['fertilizer_t3'] * len(fertilizer_t3)\n",
    "\n",
    "df = pd.DataFrame({'valor': datos, 'fertilizer': fertilizers})\n",
    "\n",
    "# Tukey test\n",
    "tukey = pairwise_tukeyhsd(endog=df['valor'], groups=df['fertilizer'], alpha=0.05)\n",
    "print(tukey)"
   ]
  }
 ],
 "metadata": {
  "kernelspec": {
   "display_name": "Python 3",
   "language": "python",
   "name": "python3"
  },
  "language_info": {
   "codemirror_mode": {
    "name": "ipython",
    "version": 3
   },
   "file_extension": ".py",
   "mimetype": "text/x-python",
   "name": "python",
   "nbconvert_exporter": "python",
   "pygments_lexer": "ipython3",
   "version": "3.11.4"
  }
 },
 "nbformat": 4,
 "nbformat_minor": 5
}
